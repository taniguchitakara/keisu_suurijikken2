{
  "cells": [
    {
      "cell_type": "markdown",
      "metadata": {
        "id": "jPZF_FYRB56M"
      },
      "source": []
    },
    {
      "cell_type": "markdown",
      "metadata": {},
      "source": [
        "install packages"
      ]
    },
    {
      "cell_type": "code",
      "execution_count": null,
      "metadata": {
        "id": "jVIyZ-CaDcgy"
      },
      "outputs": [
        {
          "ename": "",
          "evalue": "",
          "output_type": "error",
          "traceback": [
            "\u001b[1;31mRunning cells with 'Python 3.12.1' requires the ipykernel package.\n",
            "\u001b[1;31mRun the following command to install 'ipykernel' into the Python environment. \n",
            "\u001b[1;31mCommand: '/usr/local/bin/python3.12 -m pip install ipykernel -U --user --force-reinstall'"
          ]
        }
      ],
      "source": [
        "!pip install gradio"
      ]
    },
    {
      "cell_type": "code",
      "execution_count": null,
      "metadata": {
        "id": "8N4QzoZ_11XU"
      },
      "outputs": [
        {
          "ename": "",
          "evalue": "",
          "output_type": "error",
          "traceback": [
            "\u001b[1;31mRunning cells with 'Python 3.12.1' requires the ipykernel package.\n",
            "\u001b[1;31mRun the following command to install 'ipykernel' into the Python environment. \n",
            "\u001b[1;31mCommand: '/usr/local/bin/python3.12 -m pip install ipykernel -U --user --force-reinstall'"
          ]
        }
      ],
      "source": [
        "import pickle\n",
        "\n",
        "from sklearn.linear_model import Ridge\n",
        "from sklearn.feature_extraction.text import CountVectorizer, TfidfVectorizer\n",
        "from joblib import load\n",
        "import pickle\n",
        "from scipy.sparse import vstack, hstack, csr_matrix\n",
        "import pandas as pd\n",
        "from sklearn.preprocessing import LabelBinarizer"
      ]
    },
    {
      "cell_type": "code",
      "execution_count": null,
      "metadata": {
        "id": "TwfTnJ914q45"
      },
      "outputs": [
        {
          "ename": "",
          "evalue": "",
          "output_type": "error",
          "traceback": [
            "\u001b[1;31mRunning cells with 'Python 3.12.1' requires the ipykernel package.\n",
            "\u001b[1;31mRun the following command to install 'ipykernel' into the Python environment. \n",
            "\u001b[1;31mCommand: '/usr/local/bin/python3.12 -m pip install ipykernel -U --user --force-reinstall'"
          ]
        }
      ],
      "source": [
        "model = load('./ridge_model.pkl')\n",
        "\n",
        "\n",
        "# PKLファイルから変換器を読み込みます\n",
        "with open('./cv_cate.pkl', 'rb') as f:\n",
        "    cv_cate = pickle.load(f)\n",
        "\n",
        "with open('./cv_name.pkl', 'rb') as f2:\n",
        "    cv_name = pickle.load(f2)\n",
        "\n",
        "with open('./tv.pkl', 'rb') as e:\n",
        "    tv = pickle.load(e)\n",
        "\n",
        "with open('./lb.pkl', 'rb') as g:\n",
        "    lb = pickle.load(g)"
      ]
    },
    {
      "cell_type": "markdown",
      "metadata": {
        "id": "oCibXtYM4ovl"
      },
      "source": [
        "**アプリ**"
      ]
    },
    {
      "cell_type": "markdown",
      "metadata": {
        "id": "Kmt11ICW0kXi"
      },
      "source": [
        "雛形"
      ]
    },
    {
      "cell_type": "code",
      "execution_count": 17,
      "metadata": {
        "colab": {
          "base_uri": "https://localhost:8080/"
        },
        "id": "n0lLq_QX-Y3a",
        "outputId": "8d0026c1-e676-45e8-81d9-c17f2773c20d"
      },
      "outputs": [
        {
          "name": "stdout",
          "output_type": "stream",
          "text": [
            "\n"
          ]
        }
      ],
      "source": [
        "import gradio as gr\n",
        "import pickle\n",
        "import pandas as pd\n",
        "\n",
        "\n",
        "\n",
        "# Load the pre-trained model\n",
        "# with open('path/to/your/model.pkl', 'rb') as model_file:\n",
        "#     model = pickle.load(model_file)\n",
        "\n",
        "def predict_price(name, item_condition_id, category_name, brand_name, price, shipping, item_description):\n",
        "    # 日本語の入力を英語に翻訳\n",
        "    name_en = translate_to_english(name)\n",
        "    category_name_en = translate_to_english(category_name)\n",
        "    brand_name_en = translate_to_english(brand_name)\n",
        "    item_description_en = translate_to_english(item_description)\n",
        "\n",
        "    shipping=1 if shipping==\"送料込み\" else 0\n",
        "    print(shipping)\n",
        "    if item_condition_id==\"全体的に状態が悪い\" or \"傷や汚れあり\":\n",
        "      item_condition_id=5\n",
        "    elif item_condition_id==\"やや傷や汚れあり\":\n",
        "      item_condition_id=4\n",
        "    elif item_condition_id==\"目立った傷や汚れなし\":\n",
        "      item_condition_id=3\n",
        "    elif  item_condition_id==\"未使用に近い\":\n",
        "      item_condition_id=2\n",
        "    elif item_condition_id== \"新品、未使用\":\n",
        "      item_conditon_id=1\n",
        "\n",
        "\n",
        "    # Create a DataFrame with the translated input data\n",
        "    data = {\n",
        "        'name': [name_en],\n",
        "        'item_condition_id': [item_condition_id],\n",
        "        'category_name': [category_name_en],\n",
        "        'brand_name': [brand_name_en],\n",
        "        'price': [price],\n",
        "        'shipping': [shipping],\n",
        "        'item_description': [item_description_en]\n",
        "    }\n",
        "    combined = pd.DataFrame(data)\n",
        "\n",
        "    combined = combined.astype({'item_condition_id': 'category', 'category_name': 'category', 'brand_name': 'category'})\n",
        "    combined['item_condition_id'] = pd.Categorical(combined['item_condition_id'], categories=[1, 2, 3, 4, 5], ordered=True)\n",
        "    X_dummies = csr_matrix(pd.get_dummies(combined[['item_condition_id', 'shipping']], sparse=True).values)\n",
        "    X_name = cv_name.transform(combined['name'])\n",
        "    X_category = cv_cate.transform(combined['category_name'])\n",
        "\n",
        "    X_description = tv.transform(combined['item_description'])\n",
        "    X_brand = lb.transform(combined['brand_name'])\n",
        "    sparse_merge = hstack((X_dummies, X_description, X_brand, X_category, X_name)).tocsr()\n",
        "\n",
        "    # Make predictions\n",
        "    predictions = model.predict(sparse_merge)\n",
        "\n",
        "    r = 100.0 - (price / (predictions*201)) * 100\n",
        "    if r >= 0:\n",
        "        result = \"{}%お得です\".format(r)\n",
        "    else:\n",
        "        r = -r \n",
        "        result = \"{}%損です\".format(r)\n",
        "    # Return the prediction and the message\n",
        "    predictions = predictions*201\n",
        "    answer1 = \"推定値段が{}円でした．．\".format(predictions)\n",
        "    answer2 = answer1 + result\n",
        "    return answer2\n",
        "\n",
        "# Define the Gradio interface\n",
        "cond = [ \"全体的に状態が悪い\",\"傷や汚れあり\",\"やや傷や汚れあり\",\"目立った傷や汚れなし\",\"未使用に近い\",\"新品、未使用\"]\n",
        "cond.reverse()\n",
        "interface = gr.Interface(\n",
        "    fn=predict_price,\n",
        "    inputs=[\n",
        "        gr.components.Textbox(label=\"商品名をコピペしてください\"),\n",
        "        gr.components.Radio(cond,label=\"商品の状態\"),\n",
        "        gr.components.Textbox(label=\"カテゴリー名をコピペしてください\"),\n",
        "        gr.components.Textbox(label=\"ブランド名をコピペしてください\"),\n",
        "        gr.components.Number(label=\"商品の出品金額を入力してください\"),\n",
        "        gr.components.Radio([ \"送料込み\",\"着払い\"],label=\"送料\"),\n",
        "        gr.components.Textbox(label=\"商品の説明をコピペしてください\")\n",
        "    ],\n",
        "    title=\"メルカリ買い得チェッカー\",\n",
        "    outputs=gr.components.Textbox(label=\"Predicted Price\")\n",
        ")\n",
        "\n",
        "\n",
        "# Webアプリを作成\n",
        "#app = gr.Interface(fn=greet_english, inputs=\"text\", outputs=\"text\", title=\"English Greeting Translator\")\n",
        "\n",
        "\n",
        "# Launch the interface\n",
        "if __name__ == \"__main__\":\n",
        "    interface.launch(debug=True,share=True)\n"
      ]
    },
    {
      "cell_type": "markdown",
      "metadata": {},
      "source": [
        "preprocessing"
      ]
    },
    {
      "cell_type": "code",
      "execution_count": null,
      "metadata": {},
      "outputs": [],
      "source": []
    },
    {
      "cell_type": "code",
      "execution_count": null,
      "metadata": {
        "colab": {
          "base_uri": "https://localhost:8080/",
          "height": 612
        },
        "collapsed": true,
        "id": "wFH6LjHu5_iP",
        "outputId": "3b4dff1e-e3d8-49e7-a229-eca151e94b18"
      },
      "outputs": [
        {
          "name": "stdout",
          "output_type": "stream",
          "text": [
            "Colab notebook detected. This cell will run indefinitely so that you can see errors and logs. To turn off, set debug=False in launch().\n",
            "Running on public URL: https://838c457cfba44dc1bd.gradio.live\n",
            "\n",
            "This share link expires in 72 hours. For free permanent hosting and GPU upgrades, run `gradio deploy` from Terminal to deploy to Spaces (https://huggingface.co/spaces)\n"
          ]
        },
        {
          "data": {
            "text/html": [
              "<div><iframe src=\"https://838c457cfba44dc1bd.gradio.live\" width=\"100%\" height=\"500\" allow=\"autoplay; camera; microphone; clipboard-read; clipboard-write;\" frameborder=\"0\" allowfullscreen></iframe></div>"
            ],
            "text/plain": [
              "<IPython.core.display.HTML object>"
            ]
          },
          "metadata": {},
          "output_type": "display_data"
        }
      ],
      "source": [
        "import gradio as gr\n",
        "import pickle\n",
        "import pandas as pd\n",
        "\n",
        "\n",
        "\n",
        "# Load the pre-trained model\n",
        "# with open('path/to/your/model.pkl', 'rb') as model_file:\n",
        "#     model = pickle.load(model_file)\n",
        "\n",
        "def predict_price(name, item_condition_id, category_name, brand_name, price, shipping, item_description):\n",
        "    # 日本語の入力を英語に翻訳\n",
        "    name_en = translate_to_english(name)\n",
        "    category_name_en = translate_to_english(category_name)\n",
        "    brand_name_en = translate_to_english(brand_name)\n",
        "    item_description_en = translate_to_english(item_description)\n",
        "\n",
        "    shipping=1 if shipping==\"送料込み\" else 0\n",
        "    print(shipping)\n",
        "    if item_condition_id==\"全体的に状態が悪い\" or \"傷や汚れあり\":\n",
        "      item_condition_id=5\n",
        "    elif item_condition_id==\"やや傷や汚れあり\":\n",
        "      item_condition_id=4\n",
        "    elif item_condition_id==\"目立った傷や汚れなし\":\n",
        "      item_condition_id=3\n",
        "    elif  item_condition_id==\"未使用に近い\":\n",
        "      item_condition_id=2\n",
        "    elif item_condition_id== \"新品、未使用\":\n",
        "      item_conditon_id=1\n",
        "\n",
        "\n",
        "    # Create a DataFrame with the translated input data\n",
        "    data = {\n",
        "        'name': [name_en],\n",
        "        'item_condition_id': [item_condition_id],\n",
        "        'category_name': [category_name_en],\n",
        "        'brand_name': [brand_name_en],\n",
        "        'price': [price],\n",
        "        'shipping': [shipping],\n",
        "        'item_description': [item_description_en]\n",
        "    }\n",
        "    combined = pd.DataFrame(data)\n",
        "\n",
        "    combined = combined.astype({'item_condition_id': 'category', 'category_name': 'category', 'brand_name': 'category'})\n",
        "    combined['item_condition_id'] = pd.Categorical(combined['item_condition_id'], categories=[1, 2, 3, 4, 5], ordered=True)\n",
        "    X_dummies = csr_matrix(pd.get_dummies(combined[['item_condition_id', 'shipping']], sparse=True).values)\n",
        "    X_name = cv_name.transform(combined['name'])\n",
        "    X_category = cv_cate.transform(combined['category_name'])\n",
        "\n",
        "    X_description = tv.transform(combined['item_description'])\n",
        "    X_brand = lb.transform(combined['brand_name'])\n",
        "    sparse_merge = hstack((X_dummies, X_description, X_brand, X_category, X_name)).tocsr()\n",
        "\n",
        "    # Make predictions\n",
        "    predictions = model.predict(sparse_merge)\n",
        "\n",
        "    r = 100.0 - (price / predictions*201) * 100\n",
        "    if r >= 0:\n",
        "        result = f\"{r:.2f}%お得です\"\n",
        "    else:\n",
        "        result = f\"{-r:.2f}%損です\"\n",
        "    # Return the prediction and the message\n",
        "    return predictions, result\n",
        "\n",
        "    # Return the prediction\n",
        "    return predictions\n",
        "\n",
        "# Define the Gradio interface\n",
        "cond = [ \"全体的に状態が悪い\",\"傷や汚れあり\",\"やや傷や汚れあり\",\"目立った傷や汚れなし\",\"未使用に近い\",\"新品、未使用\"]\n",
        "cond.reverse()\n",
        "interface = gr.Interface(\n",
        "    fn=predict_price,\n",
        "    inputs=[\n",
        "        gr.components.Textbox(label=\"商品名をコピペしてください\"),\n",
        "        gr.components.Radio(cond,label=\"商品の状態\"),\n",
        "        gr.components.Textbox(label=\"カテゴリー名をコピペしてください\"),\n",
        "        gr.components.Textbox(label=\"ブランド名をコピペしてください\"),\n",
        "        gr.components.Number(label=\"商品の出品金額を入力してください\"),\n",
        "        gr.components.Radio([ \"送料込み\",\"着払い\"],label=\"送料\"),\n",
        "        gr.components.Textbox(label=\"商品の説明をコピペしてください\")\n",
        "    ],\n",
        "    title=\"メルカリ買い得チェッカー\",\n",
        "    outputs=gr.components.Textbox(label=\"Predicted Price\")\n",
        ")\n",
        "\n",
        "\n",
        "# Webアプリを作成\n",
        "#app = gr.Interface(fn=greet_english, inputs=\"text\", outputs=\"text\", title=\"English Greeting Translator\")\n",
        "\n",
        "\n",
        "# Launch the interface\n",
        "if __name__ == \"__main__\":\n",
        "    interface.launch(debug=True,share=True)\n"
      ]
    },
    {
      "cell_type": "code",
      "execution_count": null,
      "metadata": {
        "id": "BVpbpQ6eC3nr"
      },
      "outputs": [],
      "source": []
    }
  ],
  "metadata": {
    "colab": {
      "provenance": []
    },
    "kernelspec": {
      "display_name": "Python 3",
      "name": "python3"
    },
    "language_info": {
      "name": "python",
      "version": "3.12.1"
    }
  },
  "nbformat": 4,
  "nbformat_minor": 0
}
